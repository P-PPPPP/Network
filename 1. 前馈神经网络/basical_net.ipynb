{
 "cells": [
  {
   "cell_type": "code",
   "execution_count": 1,
   "metadata": {},
   "outputs": [],
   "source": [
    "import copy;\n",
    "import pandas as pd;\n",
    "import numpy as np;"
   ]
  },
  {
   "cell_type": "code",
   "execution_count": 2,
   "metadata": {},
   "outputs": [],
   "source": [
    "# 激活函数\n",
    "def func(k,x):\n",
    "    global act_fun;\n",
    "    if act_fun[k] == 1:\n",
    "        return relu(x);\n",
    "    if act_fun[k] == 0:\n",
    "        return x;\n",
    "# 导函数\n",
    "def gra_func(k,x):\n",
    "    global act_fun;\n",
    "    if act_fun[k] == 1:\n",
    "        return gra_relu(x);\n",
    "    if act_fun[k] == 0:\n",
    "        return 1;\n",
    "# 线性激活\n",
    "def relu(x):\n",
    "    res = np.abs(x);\n",
    "    res = (res + x)/2;\n",
    "    return res;\n",
    "# 线性激活导函数\n",
    "def gra_relu(x):\n",
    "    res = np.abs(x);\n",
    "    res = np.sign(res + x);\n",
    "    return res;"
   ]
  },
  {
   "cell_type": "code",
   "execution_count": 4,
   "metadata": {},
   "outputs": [],
   "source": [
    "# 载入数据集\n",
    "names_to_label = {'Iris-setosa': 0, 'Iris-versicolor': 1, 'Iris-virginica': 2};\n",
    "label_to_names = {value: key for key, value in names_to_label.items()}\n",
    "df = pd.read_csv('iris.data', header=None)\n",
    "xs = df.iloc[:, :4].values\n",
    "ts = np.array([names_to_label[name] for name in df.iloc[:, -1]])\n",
    "ts = ts.reshape(-1,1);"
   ]
  },
  {
   "cell_type": "code",
   "execution_count": 5,
   "metadata": {},
   "outputs": [],
   "source": [
    "# 定义神经网络\n",
    "layers = 5;\n",
    "nets = [16,64,256,32,1];\n",
    "in_shape = [4] + nets[:-1];\n",
    "out_shape = nets;\n",
    "act_fun = [1,1,1,1,0];\n",
    "x0 = xs;\n",
    "n = x0.shape[0];\n",
    "m = x0.shape[1];"
   ]
  },
  {
   "cell_type": "code",
   "execution_count": 6,
   "metadata": {},
   "outputs": [],
   "source": [
    "# 网络参数初始化\n",
    "w = [];\n",
    "b = [];\n",
    "x = [];\n",
    "y = [];\n",
    "delta = [];\n",
    "for i in range(layers):\n",
    "    wk = np.random.randn(in_shape[i],out_shape[i]);\n",
    "    bk = np.random.randn(1,nets[i]);\n",
    "    w.append(wk);\n",
    "    b.append(bk);\n",
    "    x.append([]);\n",
    "    y.append([]);\n",
    "    delta.append([]);"
   ]
  },
  {
   "cell_type": "code",
   "execution_count": 7,
   "metadata": {},
   "outputs": [
    {
     "name": "stdout",
     "output_type": "stream",
     "text": [
      "ep 0: loss: 5673.03\n",
      "ep 1: loss: 3215.04\n",
      "ep 2: loss: 2041.44\n",
      "ep 3: loss: 1393.94\n",
      "ep 4: loss: 989.65\n",
      "ep 5: loss: 743.50\n",
      "ep 6: loss: 587.69\n",
      "ep 7: loss: 480.53\n",
      "ep 8: loss: 400.90\n",
      "ep 9: loss: 337.62\n"
     ]
    }
   ],
   "source": [
    "# 算法主体\n",
    "epoches = 10;\n",
    "rate = 1e-10;\n",
    "res_w = [];\n",
    "res_b = [];\n",
    "res_delta = [];\n",
    "res_dw = [];\n",
    "res_db = [];\n",
    "for p in range(epoches):\n",
    "    x0 = xs;\n",
    "    # 正向传播\n",
    "    # 输入层情况\n",
    "    x0 = xs;\n",
    "    x[0] = np.dot(x0,w[0]) + b[0];\n",
    "    y[0] = func(1,x[0]);\n",
    "    # 隐藏层\n",
    "    for k in range(1,layers):\n",
    "        x[k] = np.dot(y[k-1],w[k]) + b[k];\n",
    "        y[k] = func(k-1,x[k]);\n",
    "    loss = 1/x0.shape[0] * 1/2*np.sum((y[k] - ts)**2);\n",
    "    # 反向传播\n",
    "    # 输出层情况\n",
    "    delta[k] = (y[k] - ts)*gra_func(k-1,x[k]);\n",
    "    db = np.sum(delta[k],axis=0).reshape(1,-1);\n",
    "    dw = np.dot(y[k-1].T,delta[k]);\n",
    "    b[k] -= rate*db;\n",
    "    w[k] -= rate*dw;\n",
    "    k -= 1;\n",
    "    # 隐藏层\n",
    "    while(k>0):\n",
    "        delta[k] = np.dot(delta[k+1],w[k+1].T) * gra_func(k-1,x[k]);\n",
    "        db = np.sum(delta[k],axis = 0).reshape(1,-1);\n",
    "        dw = np.dot(y[k-1].T,delta[k]);\n",
    "        b[k] -= rate*db;\n",
    "        w[k] -= rate*dw;\n",
    "        k -= 1;\n",
    "    print('ep {}: loss: {:.2f}'.format(p,loss))"
   ]
  },
  {
   "cell_type": "code",
   "execution_count": null,
   "metadata": {},
   "outputs": [],
   "source": []
  }
 ],
 "metadata": {
  "interpreter": {
   "hash": "ce6f82c3eafde872384b2df90d4ff3d60be8762ce3510564dd0f34869981a8dc"
  },
  "kernelspec": {
   "display_name": "Python 3.10.2 64-bit",
   "language": "python",
   "name": "python3"
  },
  "language_info": {
   "codemirror_mode": {
    "name": "ipython",
    "version": 3
   },
   "file_extension": ".py",
   "mimetype": "text/x-python",
   "name": "python",
   "nbconvert_exporter": "python",
   "pygments_lexer": "ipython3",
   "version": "3.9.7"
  },
  "orig_nbformat": 4
 },
 "nbformat": 4,
 "nbformat_minor": 2
}
