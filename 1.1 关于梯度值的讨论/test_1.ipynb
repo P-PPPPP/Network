{
 "cells": [
  {
   "cell_type": "code",
   "execution_count": 5,
   "metadata": {},
   "outputs": [],
   "source": [
    "import numpy as np;\n",
    "import pandas as pd;\n",
    "import copy;\n",
    "import matplotlib.pyplot as plt;"
   ]
  },
  {
   "cell_type": "code",
   "execution_count": 6,
   "metadata": {},
   "outputs": [],
   "source": [
    "def func(k,x):\n",
    "    global act_fun;\n",
    "    if act_fun[k] == 1:\n",
    "        return relu(x);\n",
    "    if act_fun[k] == 0:\n",
    "        return x;\n",
    "\n",
    "def gra_func(k,x):\n",
    "    global act_fun;\n",
    "    if act_fun[k] == 1:\n",
    "        return gra_relu(x);\n",
    "    if act_fun[k] == 0:\n",
    "        return 1;\n",
    "\n",
    "def relu(x):\n",
    "    res = np.abs(x);\n",
    "    res = (res + x)/2;\n",
    "    return res;\n",
    "\n",
    "def gra_relu(x):\n",
    "    res = np.abs(x);\n",
    "    res = np.sign(res + x);\n",
    "    return res;\n",
    "    "
   ]
  },
  {
   "cell_type": "code",
   "execution_count": 17,
   "metadata": {},
   "outputs": [],
   "source": [
    "# 随机打乱训练集，从训练集中划分出测试集\n",
    "def random_division(x,y=None,test_rate = 0):\n",
    "    x = np.array(x);\n",
    "    # 数据总长度\n",
    "    n = np.shape(x)[0];\n",
    "    # 生成下表序列并随即打乱\n",
    "    sequence = np.array(range(n));\n",
    "    np.random.shuffle(sequence);\n",
    "    # 测试集长度\n",
    "    n_test = int(np.ceil(n * test_rate));\n",
    "    # 测试集序列与训练集序列\n",
    "    se_test = sequence[:n_test];\n",
    "    se_train = sequence[n_test:];\n",
    "    # 训练集\n",
    "    train_data = x[se_train];\n",
    "    # 测试集\n",
    "    test_data = x[se_test];\n",
    "    # 有监督学习的情况\n",
    "    if not type(y) == type(None):\n",
    "        y = np.array(y);\n",
    "        train_label = y[se_train];\n",
    "        test_label = y[se_test];\n",
    "        if not test_rate == 0:\n",
    "            return (train_data,train_label,test_data,test_label);\n",
    "        else:\n",
    "            return (train_data,train_label);\n",
    "    # 无监督情况\n",
    "    if not test_rate == 0:\n",
    "        return (train_data,test_data);\n",
    "    else:\n",
    "        return (train_data);"
   ]
  },
  {
   "cell_type": "code",
   "execution_count": 8,
   "metadata": {},
   "outputs": [],
   "source": [
    "names_to_label = {'Iris-setosa': 0, 'Iris-versicolor': 1, 'Iris-virginica': 2};\n",
    "label_to_names = {value: key for key, value in names_to_label.items()}\n",
    "df = pd.read_csv('iris.data', header=None)\n",
    "xs = df.iloc[:, :4].values\n",
    "ts = np.array([names_to_label[name] for name in df.iloc[:, -1]])\n",
    "ys = np.zeros((ts.shape[0], 3));\n",
    "ts = ts.reshape(-1,1);"
   ]
  },
  {
   "cell_type": "code",
   "execution_count": 9,
   "metadata": {},
   "outputs": [],
   "source": [
    "# 对数据的归一化处理\n",
    "max_x = np.max(np.abs(xs),axis=0);\n",
    "xs = xs / max_x;"
   ]
  },
  {
   "cell_type": "code",
   "execution_count": 10,
   "metadata": {},
   "outputs": [],
   "source": [
    "layers = 5;\n",
    "nets = [16,64,256,32,1];\n",
    "in_shape = [4] + nets[:-1];\n",
    "out_shape = nets;\n",
    "act_fun = [1,1,1,1,0];\n",
    "x0 = xs;\n",
    "n = x0.shape[0];\n",
    "m = x0.shape[1];"
   ]
  },
  {
   "cell_type": "code",
   "execution_count": 11,
   "metadata": {},
   "outputs": [],
   "source": [
    "w = [];\n",
    "b = [];\n",
    "x = [];\n",
    "y = [];\n",
    "delta = [];\n",
    "for i in range(layers):\n",
    "    wk = np.random.randn(in_shape[i],out_shape[i]);\n",
    "    bk = np.random.randn(1,nets[i]);\n",
    "    w.append(wk);\n",
    "    b.append(bk);\n",
    "    x.append([]);\n",
    "    y.append([]);\n",
    "    delta.append([]);"
   ]
  },
  {
   "cell_type": "code",
   "execution_count": 12,
   "metadata": {},
   "outputs": [],
   "source": [
    "# 将初始化参数保存，以便控制变量分析\n",
    "w_init = copy.deepcopy(w);\n",
    "b_init = copy.deepcopy(b);\n",
    "x_init = copy.deepcopy(x);\n",
    "y_init = copy.deepcopy(y);\n",
    "delta_init = copy.deepcopy(delta);"
   ]
  },
  {
   "cell_type": "code",
   "execution_count": 13,
   "metadata": {},
   "outputs": [],
   "source": [
    "# 加载已保存的初始化参数\n",
    "w = copy.deepcopy(w_init);\n",
    "b = copy.deepcopy(b_init);\n",
    "x = copy.deepcopy(x_init);\n",
    "y = copy.deepcopy(y_init);\n",
    "delta = copy.deepcopy(delta_init);"
   ]
  },
  {
   "cell_type": "code",
   "execution_count": 14,
   "metadata": {},
   "outputs": [
    {
     "name": "stdout",
     "output_type": "stream",
     "text": [
      "ep 0: loss: 30272.77\n",
      "ep 1: loss: 23889.55\n",
      "ep 2: loss: 18851.82\n",
      "ep 3: loss: 14953.10\n",
      "ep 4: loss: 11971.20\n",
      "ep 5: loss: 9708.85\n",
      "ep 6: loss: 7982.75\n",
      "ep 7: loss: 6642.27\n",
      "ep 8: loss: 5574.75\n",
      "ep 9: loss: 4713.84\n"
     ]
    }
   ],
   "source": [
    "epoches = 10;\n",
    "rate = 1e-6;\n",
    "res_w = [];\n",
    "res_b = [];\n",
    "res_delta = [];\n",
    "res_dw = [];\n",
    "res_db = [];\n",
    "for p in range(epoches):\n",
    "    x0 = xs;\n",
    "    # 正向传播\n",
    "    # 输入层情况\n",
    "    x0 = xs;\n",
    "    x[0] = np.dot(x0,w[0]) + b[0];\n",
    "    y[0] = func(1,x[0]);\n",
    "    # 隐藏层\n",
    "    for k in range(1,layers):\n",
    "        x[k] = np.dot(y[k-1],w[k]) + b[k];\n",
    "        y[k] = func(k-1,x[k]);\n",
    "    loss = 1/x0.shape[0] * 1/2*np.sum((y[k] - ts)**2);\n",
    "    # 反向传播\n",
    "    res_w.append([]);\n",
    "    res_b.append([]);\n",
    "    res_dw.append([]);\n",
    "    res_db.append([]);\n",
    "    res_delta.append([]);\n",
    "    # 输出层情况\n",
    "    delta[k] = (y[k] - ts)*gra_func(k-1,x[k]);\n",
    "    # delta量的归一化处理\n",
    "    delta[k] = delta[k] / np.max(np.abs(delta[k]));\n",
    "    db = np.sum(delta[k],axis=0).reshape(1,-1);\n",
    "    dw = np.dot(y[k-1].T,delta[k]);\n",
    "    res_w[p].append(copy.deepcopy(w[k]));\n",
    "    res_b[p].append(copy.deepcopy(b[k]));\n",
    "    res_delta[p].append(copy.deepcopy(delta[k]));\n",
    "    res_dw[p].append(copy.deepcopy(dw));\n",
    "    res_db[p].append(copy.deepcopy(db));\n",
    "    b[k] -= rate*db;\n",
    "    w[k] -= rate*dw;\n",
    "    \n",
    "    k -= 1;\n",
    "    # 隐藏层\n",
    "    while(k>0):\n",
    "        delta[k] = np.dot(delta[k+1],w[k+1].T) * gra_func(k-1,x[k]);\n",
    "        # delta的归一化处理\n",
    "        delta[k] = delta[k] / np.max(np.abs(delta[k]));\n",
    "        db = np.sum(delta[k],axis = 0).reshape(1,-1);\n",
    "        dw = np.dot(y[k-1].T,delta[k]);\n",
    "        res_w[p].append(copy.deepcopy(w[k]));\n",
    "        res_b[p].append(copy.deepcopy(b[k]));\n",
    "        res_delta[p].append(copy.deepcopy(delta[k]));\n",
    "        res_dw[p].append(copy.deepcopy(dw));\n",
    "        res_db[p].append(copy.deepcopy(db));\n",
    "        b[k] -= rate*db;\n",
    "        w[k] -= rate*dw;\n",
    "        k -= 1;\n",
    "    print('ep {}: loss: {:.2f}'.format(p,loss))"
   ]
  },
  {
   "cell_type": "code",
   "execution_count": 15,
   "metadata": {},
   "outputs": [],
   "source": [
    "# 提取统计信息\n",
    "data = res_dw; # 在这里修改需要输出的变量\n",
    "abs_max = [];\n",
    "mean_data = [];\n",
    "med_data = [];\n",
    "abs_min = [];\n",
    "for i in range(len(data)):\n",
    "    abs_max.append([]);\n",
    "    mean_data.append([]);\n",
    "    med_data.append([]);\n",
    "    abs_min.append([]);\n",
    "\n",
    "    for k in range(len(data[i])-1,-1,-1):\n",
    "        abs_max[i].append(np.max(np.abs(data[i][k])));\n",
    "        mean_data[i].append(np.mean(data[i][k]));\n",
    "        med_data[i].append(np.median(data[i][k]));\n",
    "        abs_min[i].append(np.min(np.abs(data[i][k])));"
   ]
  },
  {
   "cell_type": "code",
   "execution_count": 16,
   "metadata": {},
   "outputs": [
    {
     "ename": "ModuleNotFoundError",
     "evalue": "No module named 'openpyxl'",
     "output_type": "error",
     "traceback": [
      "\u001b[1;31m---------------------------------------------------------------------------\u001b[0m",
      "\u001b[1;31mModuleNotFoundError\u001b[0m                       Traceback (most recent call last)",
      "\u001b[1;32m~\\AppData\\Local\\Temp/ipykernel_9032/504482351.py\u001b[0m in \u001b[0;36m<module>\u001b[1;34m\u001b[0m\n\u001b[0;32m      1\u001b[0m \u001b[0mdata_pd\u001b[0m \u001b[1;33m=\u001b[0m \u001b[0mpd\u001b[0m\u001b[1;33m.\u001b[0m\u001b[0mDataFrame\u001b[0m\u001b[1;33m(\u001b[0m\u001b[0mabs_max\u001b[0m\u001b[1;33m)\u001b[0m\u001b[1;33m;\u001b[0m\u001b[1;33m\u001b[0m\u001b[1;33m\u001b[0m\u001b[0m\n\u001b[1;32m----> 2\u001b[1;33m \u001b[0mwriter\u001b[0m \u001b[1;33m=\u001b[0m \u001b[0mpd\u001b[0m\u001b[1;33m.\u001b[0m\u001b[0mExcelWriter\u001b[0m\u001b[1;33m(\u001b[0m\u001b[1;34m'abs_max.xlsx'\u001b[0m\u001b[1;33m)\u001b[0m\u001b[1;33m;\u001b[0m\u001b[1;33m\u001b[0m\u001b[1;33m\u001b[0m\u001b[0m\n\u001b[0m\u001b[0;32m      3\u001b[0m \u001b[0mdata_pd\u001b[0m\u001b[1;33m.\u001b[0m\u001b[0mto_excel\u001b[0m\u001b[1;33m(\u001b[0m\u001b[0mwriter\u001b[0m\u001b[1;33m,\u001b[0m\u001b[1;34m'page_1'\u001b[0m\u001b[1;33m,\u001b[0m\u001b[0mfloat_format\u001b[0m\u001b[1;33m=\u001b[0m\u001b[1;34m'%.6f'\u001b[0m\u001b[1;33m)\u001b[0m\u001b[1;33m;\u001b[0m\u001b[1;33m\u001b[0m\u001b[1;33m\u001b[0m\u001b[0m\n\u001b[0;32m      4\u001b[0m \u001b[0mwriter\u001b[0m\u001b[1;33m.\u001b[0m\u001b[0msave\u001b[0m\u001b[1;33m(\u001b[0m\u001b[1;33m)\u001b[0m\u001b[1;33m;\u001b[0m\u001b[1;33m\u001b[0m\u001b[1;33m\u001b[0m\u001b[0m\n\u001b[0;32m      5\u001b[0m \u001b[0mwriter\u001b[0m\u001b[1;33m.\u001b[0m\u001b[0mclose\u001b[0m\u001b[1;33m(\u001b[0m\u001b[1;33m)\u001b[0m\u001b[1;33m;\u001b[0m\u001b[1;33m\u001b[0m\u001b[1;33m\u001b[0m\u001b[0m\n",
      "\u001b[1;32m~\\AppData\\Local\\Programs\\Python\\Python310\\lib\\site-packages\\pandas\\io\\excel\\_openpyxl.py\u001b[0m in \u001b[0;36m__init__\u001b[1;34m(self, path, engine, date_format, datetime_format, mode, storage_options, if_sheet_exists, engine_kwargs, **kwargs)\u001b[0m\n\u001b[0;32m     47\u001b[0m     ):\n\u001b[0;32m     48\u001b[0m         \u001b[1;31m# Use the openpyxl module as the Excel writer.\u001b[0m\u001b[1;33m\u001b[0m\u001b[1;33m\u001b[0m\u001b[0m\n\u001b[1;32m---> 49\u001b[1;33m         \u001b[1;32mfrom\u001b[0m \u001b[0mopenpyxl\u001b[0m\u001b[1;33m.\u001b[0m\u001b[0mworkbook\u001b[0m \u001b[1;32mimport\u001b[0m \u001b[0mWorkbook\u001b[0m\u001b[1;33m\u001b[0m\u001b[1;33m\u001b[0m\u001b[0m\n\u001b[0m\u001b[0;32m     50\u001b[0m \u001b[1;33m\u001b[0m\u001b[0m\n\u001b[0;32m     51\u001b[0m         \u001b[0mengine_kwargs\u001b[0m \u001b[1;33m=\u001b[0m \u001b[0mcombine_kwargs\u001b[0m\u001b[1;33m(\u001b[0m\u001b[0mengine_kwargs\u001b[0m\u001b[1;33m,\u001b[0m \u001b[0mkwargs\u001b[0m\u001b[1;33m)\u001b[0m\u001b[1;33m\u001b[0m\u001b[1;33m\u001b[0m\u001b[0m\n",
      "\u001b[1;31mModuleNotFoundError\u001b[0m: No module named 'openpyxl'"
     ]
    }
   ],
   "source": [
    "# 将统计信息输出到excel\n",
    "data_pd = pd.DataFrame(abs_max);\n",
    "writer = pd.ExcelWriter('abs_max.xlsx');\n",
    "data_pd.to_excel(writer,'page_1',float_format='%.6f');\n",
    "writer.save();\n",
    "writer.close();\n",
    "\n",
    "data_pd = pd.DataFrame(mean_data);\n",
    "writer = pd.ExcelWriter('mean_data.xlsx');\n",
    "data_pd.to_excel(writer,'page_1',float_format='%.6f');\n",
    "writer.save();\n",
    "writer.close();\n",
    "\n",
    "data_pd = pd.DataFrame(med_data);\n",
    "writer = pd.ExcelWriter('med_data.xlsx');\n",
    "data_pd.to_excel(writer,'page_1',float_format='%.6f');\n",
    "writer.save();\n",
    "writer.close();\n",
    "\n",
    "data_pd = pd.DataFrame(abs_min);\n",
    "writer = pd.ExcelWriter('abs_min.xlsx');\n",
    "data_pd.to_excel(writer,'page_1',float_format='%.6f');\n",
    "writer.save();\n",
    "writer.close();"
   ]
  }
 ],
 "metadata": {
  "interpreter": {
   "hash": "ce6f82c3eafde872384b2df90d4ff3d60be8762ce3510564dd0f34869981a8dc"
  },
  "kernelspec": {
   "display_name": "Python 3.10.2 64-bit",
   "language": "python",
   "name": "python3"
  },
  "language_info": {
   "codemirror_mode": {
    "name": "ipython",
    "version": 3
   },
   "file_extension": ".py",
   "mimetype": "text/x-python",
   "name": "python",
   "nbconvert_exporter": "python",
   "pygments_lexer": "ipython3",
   "version": "3.10.1"
  },
  "orig_nbformat": 4
 },
 "nbformat": 4,
 "nbformat_minor": 2
}
